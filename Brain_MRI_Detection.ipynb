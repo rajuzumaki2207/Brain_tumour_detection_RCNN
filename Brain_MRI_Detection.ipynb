{
 "cells": [
  {
   "cell_type": "markdown",
   "metadata": {},
   "source": [
    "## About data \n",
    "*This dataset contains brain MR images together with manual FLAIR abnormality segmentation masks.\n",
    "The images were obtained from The Cancer Imaging Archive (TCIA).\n",
    "They correspond to 110 patients included in The Cancer Genome Atlas (TCGA) lower-grade glioma collection with at least fluid-attenuated inversion recovery (FLAIR) sequence and genomic cluster data available.\n",
    "Tumor genomic clusters and patient data is provided in data.csv file.* \n",
    "\n",
    "Download link: https://www.kaggle.com/mateuszbuda/lgg-mri-segmentation\n",
    "\n",
    "\n",
    "\n",
    "## LGG Segmentation Dataset\n",
    "\n",
    "This dataset contains brain MR images together with manual FLAIR abnormality segmentation masks.\n",
    "The images were obtained from The Cancer Imaging Archive (TCIA).\n",
    "They correspond to 110 patients included in The Cancer Genome Atlas (TCGA) lower-grade glioma collection with at least fluid-attenuated inversion recovery (FLAIR) sequence and genomic cluster data available.\n",
    "Tumor genomic clusters and patient data is provided in `data.csv` file.\n",
    "\n",
    "\n",
    "All images are provided in `.tif` format with 3 channels per image.\n",
    "For 101 cases, 3 sequences are available, i.e. pre-contrast, FLAIR, post-contrast (in this order of channels).\n",
    "For 9 cases, post-contrast sequence is missing and for 6 cases, pre-contrast sequence is missing.\n",
    "Missing sequences are replaced with FLAIR sequence to make all images 3-channel.\n",
    "Masks are binary, 1-channel images.\n",
    "They segment FLAIR abnormality present in the FLAIR sequence (available for all cases).\n",
    "\n",
    "\n",
    "The dataset is organized into 110 folders named after case ID that contains information about source institution.\n",
    "Each folder contains MR images with the following naming convention:\n",
    "\n",
    "`TCGA_<institution-code>_<patient-id>_<slice-number>.tif`\n",
    "\n",
    "Corresponding masks have a `_mask` suffix."
   ]
  },
  {
   "cell_type": "code",
   "execution_count": 1,
   "metadata": {},
   "outputs": [],
   "source": [
    "import os\n",
    "import numpy as np # linear algebra\n",
    "import pandas as pd # data processing, CSV file I/O (e.g. pd.read_csv)\n",
    "import seaborn as sns\n",
    "import matplotlib.pyplot as plt\n",
    "import zipfile\n",
    "import cv2\n",
    "import plotly.express as px\n",
    "plt.style.use(\"ggplot\")"
   ]
  },
  {
   "cell_type": "code",
   "execution_count": 2,
   "metadata": {},
   "outputs": [],
   "source": [
    "import tensorflow as tf\n",
    "from tensorflow import keras\n",
    "from tensorflow.python.keras import Sequential\n",
    "from tensorflow.keras import layers, optimizers\n",
    "from tensorflow.keras.applications.resnet50 import ResNet50\n",
    "from tensorflow.keras.layers import *\n",
    "from tensorflow.keras.models import Model\n",
    "from tensorflow.keras.initializers import glorot_uniform\n",
    "from tensorflow.keras.utils import plot_model\n",
    "from tensorflow.keras.callbacks import ReduceLROnPlateau, EarlyStopping, ModelCheckpoint, LearningRateScheduler\n",
    "from tensorflow.keras import backend as K\n",
    "from tensorflow.keras.preprocessing.image import load_img, img_to_array \n",
    "from tensorflow.keras.models import load_model\n",
    "from skimage import io"
   ]
  },
  {
   "cell_type": "code",
   "execution_count": 3,
   "metadata": {},
   "outputs": [
    {
     "data": {
      "text/html": [
       "<div>\n",
       "<style scoped>\n",
       "    .dataframe tbody tr th:only-of-type {\n",
       "        vertical-align: middle;\n",
       "    }\n",
       "\n",
       "    .dataframe tbody tr th {\n",
       "        vertical-align: top;\n",
       "    }\n",
       "\n",
       "    .dataframe thead th {\n",
       "        text-align: right;\n",
       "    }\n",
       "</style>\n",
       "<table border=\"1\" class=\"dataframe\">\n",
       "  <thead>\n",
       "    <tr style=\"text-align: right;\">\n",
       "      <th></th>\n",
       "      <th>Patient</th>\n",
       "      <th>RNASeqCluster</th>\n",
       "      <th>MethylationCluster</th>\n",
       "      <th>miRNACluster</th>\n",
       "      <th>CNCluster</th>\n",
       "      <th>RPPACluster</th>\n",
       "      <th>OncosignCluster</th>\n",
       "      <th>COCCluster</th>\n",
       "      <th>histological_type</th>\n",
       "      <th>neoplasm_histologic_grade</th>\n",
       "      <th>tumor_tissue_site</th>\n",
       "      <th>laterality</th>\n",
       "      <th>tumor_location</th>\n",
       "      <th>gender</th>\n",
       "      <th>age_at_initial_pathologic</th>\n",
       "      <th>race</th>\n",
       "      <th>ethnicity</th>\n",
       "      <th>death01</th>\n",
       "    </tr>\n",
       "  </thead>\n",
       "  <tbody>\n",
       "    <tr>\n",
       "      <th>0</th>\n",
       "      <td>TCGA_CS_4941</td>\n",
       "      <td>2.0</td>\n",
       "      <td>4.0</td>\n",
       "      <td>2</td>\n",
       "      <td>2.0</td>\n",
       "      <td>NaN</td>\n",
       "      <td>3.0</td>\n",
       "      <td>2</td>\n",
       "      <td>1.0</td>\n",
       "      <td>2.0</td>\n",
       "      <td>1.0</td>\n",
       "      <td>3.0</td>\n",
       "      <td>2.0</td>\n",
       "      <td>2.0</td>\n",
       "      <td>67.0</td>\n",
       "      <td>3.0</td>\n",
       "      <td>2.0</td>\n",
       "      <td>1.0</td>\n",
       "    </tr>\n",
       "    <tr>\n",
       "      <th>1</th>\n",
       "      <td>TCGA_CS_4942</td>\n",
       "      <td>1.0</td>\n",
       "      <td>5.0</td>\n",
       "      <td>2</td>\n",
       "      <td>1.0</td>\n",
       "      <td>1.0</td>\n",
       "      <td>2.0</td>\n",
       "      <td>1</td>\n",
       "      <td>1.0</td>\n",
       "      <td>2.0</td>\n",
       "      <td>1.0</td>\n",
       "      <td>3.0</td>\n",
       "      <td>2.0</td>\n",
       "      <td>1.0</td>\n",
       "      <td>44.0</td>\n",
       "      <td>2.0</td>\n",
       "      <td>NaN</td>\n",
       "      <td>1.0</td>\n",
       "    </tr>\n",
       "    <tr>\n",
       "      <th>2</th>\n",
       "      <td>TCGA_CS_4943</td>\n",
       "      <td>1.0</td>\n",
       "      <td>5.0</td>\n",
       "      <td>2</td>\n",
       "      <td>1.0</td>\n",
       "      <td>2.0</td>\n",
       "      <td>2.0</td>\n",
       "      <td>1</td>\n",
       "      <td>1.0</td>\n",
       "      <td>2.0</td>\n",
       "      <td>1.0</td>\n",
       "      <td>1.0</td>\n",
       "      <td>2.0</td>\n",
       "      <td>2.0</td>\n",
       "      <td>37.0</td>\n",
       "      <td>3.0</td>\n",
       "      <td>NaN</td>\n",
       "      <td>0.0</td>\n",
       "    </tr>\n",
       "    <tr>\n",
       "      <th>3</th>\n",
       "      <td>TCGA_CS_4944</td>\n",
       "      <td>NaN</td>\n",
       "      <td>5.0</td>\n",
       "      <td>2</td>\n",
       "      <td>1.0</td>\n",
       "      <td>2.0</td>\n",
       "      <td>1.0</td>\n",
       "      <td>1</td>\n",
       "      <td>1.0</td>\n",
       "      <td>1.0</td>\n",
       "      <td>1.0</td>\n",
       "      <td>3.0</td>\n",
       "      <td>6.0</td>\n",
       "      <td>2.0</td>\n",
       "      <td>50.0</td>\n",
       "      <td>3.0</td>\n",
       "      <td>NaN</td>\n",
       "      <td>0.0</td>\n",
       "    </tr>\n",
       "    <tr>\n",
       "      <th>4</th>\n",
       "      <td>TCGA_CS_5393</td>\n",
       "      <td>4.0</td>\n",
       "      <td>5.0</td>\n",
       "      <td>2</td>\n",
       "      <td>1.0</td>\n",
       "      <td>2.0</td>\n",
       "      <td>3.0</td>\n",
       "      <td>1</td>\n",
       "      <td>1.0</td>\n",
       "      <td>2.0</td>\n",
       "      <td>1.0</td>\n",
       "      <td>1.0</td>\n",
       "      <td>6.0</td>\n",
       "      <td>2.0</td>\n",
       "      <td>39.0</td>\n",
       "      <td>3.0</td>\n",
       "      <td>NaN</td>\n",
       "      <td>0.0</td>\n",
       "    </tr>\n",
       "  </tbody>\n",
       "</table>\n",
       "</div>"
      ],
      "text/plain": [
       "        Patient  RNASeqCluster  MethylationCluster  miRNACluster  CNCluster  \\\n",
       "0  TCGA_CS_4941            2.0                 4.0             2        2.0   \n",
       "1  TCGA_CS_4942            1.0                 5.0             2        1.0   \n",
       "2  TCGA_CS_4943            1.0                 5.0             2        1.0   \n",
       "3  TCGA_CS_4944            NaN                 5.0             2        1.0   \n",
       "4  TCGA_CS_5393            4.0                 5.0             2        1.0   \n",
       "\n",
       "   RPPACluster  OncosignCluster  COCCluster  histological_type  \\\n",
       "0          NaN              3.0           2                1.0   \n",
       "1          1.0              2.0           1                1.0   \n",
       "2          2.0              2.0           1                1.0   \n",
       "3          2.0              1.0           1                1.0   \n",
       "4          2.0              3.0           1                1.0   \n",
       "\n",
       "   neoplasm_histologic_grade  tumor_tissue_site  laterality  tumor_location  \\\n",
       "0                        2.0                1.0         3.0             2.0   \n",
       "1                        2.0                1.0         3.0             2.0   \n",
       "2                        2.0                1.0         1.0             2.0   \n",
       "3                        1.0                1.0         3.0             6.0   \n",
       "4                        2.0                1.0         1.0             6.0   \n",
       "\n",
       "   gender  age_at_initial_pathologic  race  ethnicity  death01  \n",
       "0     2.0                       67.0   3.0        2.0      1.0  \n",
       "1     1.0                       44.0   2.0        NaN      1.0  \n",
       "2     2.0                       37.0   3.0        NaN      0.0  \n",
       "3     2.0                       50.0   3.0        NaN      0.0  \n",
       "4     2.0                       39.0   3.0        NaN      0.0  "
      ]
     },
     "execution_count": 3,
     "metadata": {},
     "output_type": "execute_result"
    }
   ],
   "source": [
    "path = \"C:\\\\Users\\\\temp\\\\ML\\\\Projects\\\\Mask_RCNN_Brain_MRIs\\\\archive\\\\lgg-mri-segmentation\\\\kaggle_3m\"\n",
    "\n",
    "data = pd.read_csv(path + \"\\\\\" + \"data.csv\")\n",
    "\n",
    "data.head()"
   ]
  },
  {
   "cell_type": "code",
   "execution_count": 4,
   "metadata": {},
   "outputs": [
    {
     "name": "stdout",
     "output_type": "stream",
     "text": [
      "<class 'pandas.core.frame.DataFrame'>\n",
      "RangeIndex: 110 entries, 0 to 109\n",
      "Data columns (total 18 columns):\n",
      " #   Column                     Non-Null Count  Dtype  \n",
      "---  ------                     --------------  -----  \n",
      " 0   Patient                    110 non-null    object \n",
      " 1   RNASeqCluster              92 non-null     float64\n",
      " 2   MethylationCluster         109 non-null    float64\n",
      " 3   miRNACluster               110 non-null    int64  \n",
      " 4   CNCluster                  108 non-null    float64\n",
      " 5   RPPACluster                98 non-null     float64\n",
      " 6   OncosignCluster            105 non-null    float64\n",
      " 7   COCCluster                 110 non-null    int64  \n",
      " 8   histological_type          109 non-null    float64\n",
      " 9   neoplasm_histologic_grade  109 non-null    float64\n",
      " 10  tumor_tissue_site          109 non-null    float64\n",
      " 11  laterality                 109 non-null    float64\n",
      " 12  tumor_location             109 non-null    float64\n",
      " 13  gender                     109 non-null    float64\n",
      " 14  age_at_initial_pathologic  109 non-null    float64\n",
      " 15  race                       108 non-null    float64\n",
      " 16  ethnicity                  102 non-null    float64\n",
      " 17  death01                    109 non-null    float64\n",
      "dtypes: float64(15), int64(2), object(1)\n",
      "memory usage: 15.6+ KB\n"
     ]
    }
   ],
   "source": [
    "data.info()"
   ]
  },
  {
   "cell_type": "code",
   "execution_count": 5,
   "metadata": {},
   "outputs": [
    {
     "name": "stdout",
     "output_type": "stream",
     "text": [
      "[WinError 267] The directory name is invalid: 'C:\\\\Users\\\\temp\\\\ML\\\\Projects\\\\Mask_RCNN_Brain_MRIs\\\\archive\\\\lgg-mri-segmentation\\\\kaggle_3m\\\\data.csv'\n",
      "[WinError 267] The directory name is invalid: 'C:\\\\Users\\\\temp\\\\ML\\\\Projects\\\\Mask_RCNN_Brain_MRIs\\\\archive\\\\lgg-mri-segmentation\\\\kaggle_3m\\\\README.md'\n"
     ]
    }
   ],
   "source": [
    "import glob\n",
    "\n",
    "data_map= []\n",
    "\n",
    "for sub_dir in glob.glob(path + \"\\\\*\"): # List all subdirectories\n",
    "    try:\n",
    "        dir_name =sub_dir.split('\\\\')[-1]\n",
    "        for file_name in os.listdir(sub_dir):\n",
    "            image_path = sub_dir + '\\\\' + file_name\n",
    "            data_map.extend([dir_name, image_path])\n",
    "    except Exception as e:\n",
    "        print (e)      "
   ]
  },
  {
   "cell_type": "code",
   "execution_count": 6,
   "metadata": {},
   "outputs": [
    {
     "data": {
      "text/html": [
       "<div>\n",
       "<style scoped>\n",
       "    .dataframe tbody tr th:only-of-type {\n",
       "        vertical-align: middle;\n",
       "    }\n",
       "\n",
       "    .dataframe tbody tr th {\n",
       "        vertical-align: top;\n",
       "    }\n",
       "\n",
       "    .dataframe thead th {\n",
       "        text-align: right;\n",
       "    }\n",
       "</style>\n",
       "<table border=\"1\" class=\"dataframe\">\n",
       "  <thead>\n",
       "    <tr style=\"text-align: right;\">\n",
       "      <th></th>\n",
       "      <th>patient_ID</th>\n",
       "      <th>path</th>\n",
       "    </tr>\n",
       "  </thead>\n",
       "  <tbody>\n",
       "    <tr>\n",
       "      <th>0</th>\n",
       "      <td>TCGA_CS_4941_19960909</td>\n",
       "      <td>C:\\Users\\temp\\ML\\Projects\\Mask_RCNN_Brain_MRIs...</td>\n",
       "    </tr>\n",
       "    <tr>\n",
       "      <th>1</th>\n",
       "      <td>TCGA_CS_4941_19960909</td>\n",
       "      <td>C:\\Users\\temp\\ML\\Projects\\Mask_RCNN_Brain_MRIs...</td>\n",
       "    </tr>\n",
       "    <tr>\n",
       "      <th>2</th>\n",
       "      <td>TCGA_CS_4941_19960909</td>\n",
       "      <td>C:\\Users\\temp\\ML\\Projects\\Mask_RCNN_Brain_MRIs...</td>\n",
       "    </tr>\n",
       "    <tr>\n",
       "      <th>3</th>\n",
       "      <td>TCGA_CS_4941_19960909</td>\n",
       "      <td>C:\\Users\\temp\\ML\\Projects\\Mask_RCNN_Brain_MRIs...</td>\n",
       "    </tr>\n",
       "    <tr>\n",
       "      <th>4</th>\n",
       "      <td>TCGA_CS_4941_19960909</td>\n",
       "      <td>C:\\Users\\temp\\ML\\Projects\\Mask_RCNN_Brain_MRIs...</td>\n",
       "    </tr>\n",
       "  </tbody>\n",
       "</table>\n",
       "</div>"
      ],
      "text/plain": [
       "              patient_ID                                               path\n",
       "0  TCGA_CS_4941_19960909  C:\\Users\\temp\\ML\\Projects\\Mask_RCNN_Brain_MRIs...\n",
       "1  TCGA_CS_4941_19960909  C:\\Users\\temp\\ML\\Projects\\Mask_RCNN_Brain_MRIs...\n",
       "2  TCGA_CS_4941_19960909  C:\\Users\\temp\\ML\\Projects\\Mask_RCNN_Brain_MRIs...\n",
       "3  TCGA_CS_4941_19960909  C:\\Users\\temp\\ML\\Projects\\Mask_RCNN_Brain_MRIs...\n",
       "4  TCGA_CS_4941_19960909  C:\\Users\\temp\\ML\\Projects\\Mask_RCNN_Brain_MRIs..."
      ]
     },
     "execution_count": 6,
     "metadata": {},
     "output_type": "execute_result"
    }
   ],
   "source": [
    "img_path_df = pd.DataFrame({'patient_ID': data_map[::2] ,\n",
    "                'path': data_map[1::2] })\n",
    "img_path_df.head()"
   ]
  },
  {
   "cell_type": "code",
   "execution_count": 17,
   "metadata": {},
   "outputs": [],
   "source": [
    "df_imgs= img_path_df[~img_path_df['path'].str.contains(\"mask\")] ## dataframe only for brain images"
   ]
  },
  {
   "cell_type": "code",
   "execution_count": 30,
   "metadata": {},
   "outputs": [
    {
     "data": {
      "text/plain": [
       "'C:\\\\Users\\\\temp\\\\ML\\\\Projects\\\\Mask_RCNN_Brain_MRIs\\\\archive\\\\lgg-mri-segmentation\\\\kaggle_3m\\\\TCGA_CS_4941_19960909\\\\TCGA_CS_4941_19960909_10_mask.tif'"
      ]
     },
     "execution_count": 30,
     "metadata": {},
     "output_type": "execute_result"
    }
   ],
   "source": [
    "df_mask= img_path_df[img_path_df['path'].str.contains(\"mask\")] ## dataframe only for mask images\n"
   ]
  },
  {
   "cell_type": "code",
   "execution_count": 40,
   "metadata": {},
   "outputs": [
    {
     "data": {
      "text/plain": [
       "130"
      ]
     },
     "execution_count": 40,
     "metadata": {},
     "output_type": "execute_result"
    }
   ],
   "source": [
    "st = \"C:\\\\Users\\\\temp\\\\ML\\\\Projects\\\\Mask_RCNN_Brain_MRIs\\\\archive\\\\lgg-mri-segmentation\\\\kaggle_3m\\\\TCGA_CS_4941_19960909\\\\TCGA_CS_4941_19960909_\"\n",
    "len(st)\n"
   ]
  },
  {
   "cell_type": "code",
   "execution_count": 49,
   "metadata": {},
   "outputs": [],
   "source": [
    "BASE_LEN = 130 # \"C:\\\\Users\\\\temp\\\\ML\\\\Projects\\\\Mask_RCNN_Brain_MRIs\\\\archive\\\\lgg-mri-segmentation\\\\kaggle_3m\\\\TCGA_CS_4941_19960909\\\\TCGA_CS_4941_19960909_\"\n",
    "END_IMG_LEN = 4 # \n",
    "END_MASK_LEN = 9 # "
   ]
  },
  {
   "cell_type": "code",
   "execution_count": 51,
   "metadata": {},
   "outputs": [],
   "source": [
    "imgs = sorted(df_imgs[\"path\"].values, key=lambda x : int(x[BASE_LEN:-END_IMG_LEN]))\n",
    "masks = sorted(df_mask[\"path\"].values, key=lambda x : int(x[BASE_LEN:-END_MASK_LEN]))"
   ]
  },
  {
   "cell_type": "code",
   "execution_count": 52,
   "metadata": {},
   "outputs": [
    {
     "name": "stdout",
     "output_type": "stream",
     "text": [
      "Path to the Image: C:\\Users\\temp\\ML\\Projects\\Mask_RCNN_Brain_MRIs\\archive\\lgg-mri-segmentation\\kaggle_3m\\TCGA_DU_5855_19951217\\TCGA_DU_5855_19951217_20.tif \n",
      "Path to the Mask: C:\\Users\\temp\\ML\\Projects\\Mask_RCNN_Brain_MRIs\\archive\\lgg-mri-segmentation\\kaggle_3m\\TCGA_DU_5855_19951217\\TCGA_DU_5855_19951217_20_mask.tif\n"
     ]
    }
   ],
   "source": [
    "import random\n",
    "idx = random.randint(0, len(imgs)-1)\n",
    "print(\"Path to the Image:\", imgs[idx], \"\\nPath to the Mask:\", masks[idx])"
   ]
  },
  {
   "cell_type": "code",
   "execution_count": 56,
   "metadata": {},
   "outputs": [
    {
     "data": {
      "text/html": [
       "<div>\n",
       "<style scoped>\n",
       "    .dataframe tbody tr th:only-of-type {\n",
       "        vertical-align: middle;\n",
       "    }\n",
       "\n",
       "    .dataframe tbody tr th {\n",
       "        vertical-align: top;\n",
       "    }\n",
       "\n",
       "    .dataframe thead th {\n",
       "        text-align: right;\n",
       "    }\n",
       "</style>\n",
       "<table border=\"1\" class=\"dataframe\">\n",
       "  <thead>\n",
       "    <tr style=\"text-align: right;\">\n",
       "      <th></th>\n",
       "      <th>patient_id</th>\n",
       "      <th>image_path</th>\n",
       "      <th>mask_path</th>\n",
       "    </tr>\n",
       "  </thead>\n",
       "  <tbody>\n",
       "    <tr>\n",
       "      <th>0</th>\n",
       "      <td>TCGA_CS_4941_19960909</td>\n",
       "      <td>C:\\Users\\temp\\ML\\Projects\\Mask_RCNN_Brain_MRIs...</td>\n",
       "      <td>C:\\Users\\temp\\ML\\Projects\\Mask_RCNN_Brain_MRIs...</td>\n",
       "    </tr>\n",
       "    <tr>\n",
       "      <th>1</th>\n",
       "      <td>TCGA_CS_4941_19960909</td>\n",
       "      <td>C:\\Users\\temp\\ML\\Projects\\Mask_RCNN_Brain_MRIs...</td>\n",
       "      <td>C:\\Users\\temp\\ML\\Projects\\Mask_RCNN_Brain_MRIs...</td>\n",
       "    </tr>\n",
       "    <tr>\n",
       "      <th>2</th>\n",
       "      <td>TCGA_CS_4941_19960909</td>\n",
       "      <td>C:\\Users\\temp\\ML\\Projects\\Mask_RCNN_Brain_MRIs...</td>\n",
       "      <td>C:\\Users\\temp\\ML\\Projects\\Mask_RCNN_Brain_MRIs...</td>\n",
       "    </tr>\n",
       "    <tr>\n",
       "      <th>3</th>\n",
       "      <td>TCGA_CS_4941_19960909</td>\n",
       "      <td>C:\\Users\\temp\\ML\\Projects\\Mask_RCNN_Brain_MRIs...</td>\n",
       "      <td>C:\\Users\\temp\\ML\\Projects\\Mask_RCNN_Brain_MRIs...</td>\n",
       "    </tr>\n",
       "    <tr>\n",
       "      <th>4</th>\n",
       "      <td>TCGA_CS_4941_19960909</td>\n",
       "      <td>C:\\Users\\temp\\ML\\Projects\\Mask_RCNN_Brain_MRIs...</td>\n",
       "      <td>C:\\Users\\temp\\ML\\Projects\\Mask_RCNN_Brain_MRIs...</td>\n",
       "    </tr>\n",
       "  </tbody>\n",
       "</table>\n",
       "</div>"
      ],
      "text/plain": [
       "              patient_id                                         image_path  \\\n",
       "0  TCGA_CS_4941_19960909  C:\\Users\\temp\\ML\\Projects\\Mask_RCNN_Brain_MRIs...   \n",
       "1  TCGA_CS_4941_19960909  C:\\Users\\temp\\ML\\Projects\\Mask_RCNN_Brain_MRIs...   \n",
       "2  TCGA_CS_4941_19960909  C:\\Users\\temp\\ML\\Projects\\Mask_RCNN_Brain_MRIs...   \n",
       "3  TCGA_CS_4941_19960909  C:\\Users\\temp\\ML\\Projects\\Mask_RCNN_Brain_MRIs...   \n",
       "4  TCGA_CS_4941_19960909  C:\\Users\\temp\\ML\\Projects\\Mask_RCNN_Brain_MRIs...   \n",
       "\n",
       "                                           mask_path  \n",
       "0  C:\\Users\\temp\\ML\\Projects\\Mask_RCNN_Brain_MRIs...  \n",
       "1  C:\\Users\\temp\\ML\\Projects\\Mask_RCNN_Brain_MRIs...  \n",
       "2  C:\\Users\\temp\\ML\\Projects\\Mask_RCNN_Brain_MRIs...  \n",
       "3  C:\\Users\\temp\\ML\\Projects\\Mask_RCNN_Brain_MRIs...  \n",
       "4  C:\\Users\\temp\\ML\\Projects\\Mask_RCNN_Brain_MRIs...  "
      ]
     },
     "execution_count": 56,
     "metadata": {},
     "output_type": "execute_result"
    }
   ],
   "source": [
    "brain_df = pd.DataFrame({\"patient_id\": df_imgs.patient_ID.values,\n",
    "                         \"image_path\": imgs,\n",
    "                         \"mask_path\": masks\n",
    "                        })\n",
    "brain_df.head()"
   ]
  },
  {
   "cell_type": "code",
   "execution_count": 57,
   "metadata": {},
   "outputs": [],
   "source": [
    "def pos_neg_diagnosis(mask_path):\n",
    "    value = np.max(cv2.imread(mask_path)) ## Return if mask tif has some values\n",
    "    if value > 0 : \n",
    "        return 1\n",
    "    else:\n",
    "        return 0"
   ]
  },
  {
   "cell_type": "code",
   "execution_count": 63,
   "metadata": {},
   "outputs": [
    {
     "data": {
      "text/html": [
       "<div>\n",
       "<style scoped>\n",
       "    .dataframe tbody tr th:only-of-type {\n",
       "        vertical-align: middle;\n",
       "    }\n",
       "\n",
       "    .dataframe tbody tr th {\n",
       "        vertical-align: top;\n",
       "    }\n",
       "\n",
       "    .dataframe thead th {\n",
       "        text-align: right;\n",
       "    }\n",
       "</style>\n",
       "<table border=\"1\" class=\"dataframe\">\n",
       "  <thead>\n",
       "    <tr style=\"text-align: right;\">\n",
       "      <th></th>\n",
       "      <th>patient_id</th>\n",
       "      <th>image_path</th>\n",
       "      <th>mask_path</th>\n",
       "      <th>mask</th>\n",
       "    </tr>\n",
       "  </thead>\n",
       "  <tbody>\n",
       "    <tr>\n",
       "      <th>2035</th>\n",
       "      <td>TCGA_DU_A5TR_19970726</td>\n",
       "      <td>C:\\Users\\temp\\ML\\Projects\\Mask_RCNN_Brain_MRIs...</td>\n",
       "      <td>C:\\Users\\temp\\ML\\Projects\\Mask_RCNN_Brain_MRIs...</td>\n",
       "      <td>1</td>\n",
       "    </tr>\n",
       "    <tr>\n",
       "      <th>117</th>\n",
       "      <td>TCGA_CS_5395_19981004</td>\n",
       "      <td>C:\\Users\\temp\\ML\\Projects\\Mask_RCNN_Brain_MRIs...</td>\n",
       "      <td>C:\\Users\\temp\\ML\\Projects\\Mask_RCNN_Brain_MRIs...</td>\n",
       "      <td>0</td>\n",
       "    </tr>\n",
       "    <tr>\n",
       "      <th>3358</th>\n",
       "      <td>TCGA_HT_7879_19981009</td>\n",
       "      <td>C:\\Users\\temp\\ML\\Projects\\Mask_RCNN_Brain_MRIs...</td>\n",
       "      <td>C:\\Users\\temp\\ML\\Projects\\Mask_RCNN_Brain_MRIs...</td>\n",
       "      <td>1</td>\n",
       "    </tr>\n",
       "    <tr>\n",
       "      <th>3144</th>\n",
       "      <td>TCGA_HT_7690_19960312</td>\n",
       "      <td>C:\\Users\\temp\\ML\\Projects\\Mask_RCNN_Brain_MRIs...</td>\n",
       "      <td>C:\\Users\\temp\\ML\\Projects\\Mask_RCNN_Brain_MRIs...</td>\n",
       "      <td>0</td>\n",
       "    </tr>\n",
       "    <tr>\n",
       "      <th>2717</th>\n",
       "      <td>TCGA_FG_8189_20030516</td>\n",
       "      <td>C:\\Users\\temp\\ML\\Projects\\Mask_RCNN_Brain_MRIs...</td>\n",
       "      <td>C:\\Users\\temp\\ML\\Projects\\Mask_RCNN_Brain_MRIs...</td>\n",
       "      <td>1</td>\n",
       "    </tr>\n",
       "  </tbody>\n",
       "</table>\n",
       "</div>"
      ],
      "text/plain": [
       "                 patient_id  \\\n",
       "2035  TCGA_DU_A5TR_19970726   \n",
       "117   TCGA_CS_5395_19981004   \n",
       "3358  TCGA_HT_7879_19981009   \n",
       "3144  TCGA_HT_7690_19960312   \n",
       "2717  TCGA_FG_8189_20030516   \n",
       "\n",
       "                                             image_path  \\\n",
       "2035  C:\\Users\\temp\\ML\\Projects\\Mask_RCNN_Brain_MRIs...   \n",
       "117   C:\\Users\\temp\\ML\\Projects\\Mask_RCNN_Brain_MRIs...   \n",
       "3358  C:\\Users\\temp\\ML\\Projects\\Mask_RCNN_Brain_MRIs...   \n",
       "3144  C:\\Users\\temp\\ML\\Projects\\Mask_RCNN_Brain_MRIs...   \n",
       "2717  C:\\Users\\temp\\ML\\Projects\\Mask_RCNN_Brain_MRIs...   \n",
       "\n",
       "                                              mask_path  mask  \n",
       "2035  C:\\Users\\temp\\ML\\Projects\\Mask_RCNN_Brain_MRIs...     1  \n",
       "117   C:\\Users\\temp\\ML\\Projects\\Mask_RCNN_Brain_MRIs...     0  \n",
       "3358  C:\\Users\\temp\\ML\\Projects\\Mask_RCNN_Brain_MRIs...     1  \n",
       "3144  C:\\Users\\temp\\ML\\Projects\\Mask_RCNN_Brain_MRIs...     0  \n",
       "2717  C:\\Users\\temp\\ML\\Projects\\Mask_RCNN_Brain_MRIs...     1  "
      ]
     },
     "execution_count": 63,
     "metadata": {},
     "output_type": "execute_result"
    }
   ],
   "source": [
    "brain_df['mask'] = brain_df['mask_path'].apply(lambda x: pos_neg_diagnosis(x))\n",
    "brain_df.sample(5)"
   ]
  },
  {
   "cell_type": "code",
   "execution_count": null,
   "metadata": {},
   "outputs": [],
   "source": []
  }
 ],
 "metadata": {
  "interpreter": {
   "hash": "4b2624bcefef9b1a8e3df95e751ab7daeecd17b4193542664715a51e1b0603ed"
  },
  "kernelspec": {
   "display_name": "Python 3.9.0 ('tf_gpu')",
   "language": "python",
   "name": "python3"
  },
  "language_info": {
   "codemirror_mode": {
    "name": "ipython",
    "version": 3
   },
   "file_extension": ".py",
   "mimetype": "text/x-python",
   "name": "python",
   "nbconvert_exporter": "python",
   "pygments_lexer": "ipython3",
   "version": "3.9.0"
  },
  "orig_nbformat": 4
 },
 "nbformat": 4,
 "nbformat_minor": 2
}
